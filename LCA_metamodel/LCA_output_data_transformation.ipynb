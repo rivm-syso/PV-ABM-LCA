{
 "cells": [
  {
   "cell_type": "code",
   "execution_count": null,
   "metadata": {},
   "outputs": [],
   "source": [
    "#load data from excel file\n",
    "import pandas as pd\n",
    "import numpy as np\n",
    "#load data from csv file and add index column to the data\n",
    "df = pd.read_csv('LCIA.csv').T\n",
    "df.reset_index(inplace=True)"
   ]
  },
  {
   "cell_type": "code",
   "execution_count": null,
   "metadata": {},
   "outputs": [],
   "source": [
    "#separate into two dataframes based on the method column values\n",
    "df1 = df.loc[df['index'].str.contains('ILCD 2.0 2018 midpoint, resources, minerals and metals')]\n",
    "df2 = df.loc[df['index'].str.contains('ILCD 2.0 2018 midpoint, climate change, climate change total')]"
   ]
  },
  {
   "cell_type": "code",
   "execution_count": 40,
   "metadata": {},
   "outputs": [],
   "source": [
    "\n",
    "#save the dataframes to csv files\n",
    "df1.to_csv('ILCD 2.0 2018 midpoint, resources, minerals and metals.csv')\n",
    "df2.to_csv('ILCD 2.0 2018 midpoint, climate change, climate change total.csv')\n"
   ]
  }
 ],
 "metadata": {
  "kernelspec": {
   "display_name": "ab",
   "language": "python",
   "name": "python3"
  },
  "language_info": {
   "codemirror_mode": {
    "name": "ipython",
    "version": 3
   },
   "file_extension": ".py",
   "mimetype": "text/x-python",
   "name": "python",
   "nbconvert_exporter": "python",
   "pygments_lexer": "ipython3",
   "version": "3.11.8"
  }
 },
 "nbformat": 4,
 "nbformat_minor": 2
}
